{
 "cells": [
  {
   "cell_type": "code",
   "execution_count": 84,
   "metadata": {},
   "outputs": [],
   "source": [
    "import tensorflow as tf\n",
    "from tensorflow.keras import layers, Model\n",
    "from tensorflow.keras.datasets import mnist\n",
    "import numpy as np\n",
    "import matplotlib.pyplot as plt"
   ]
  },
  {
   "cell_type": "code",
   "execution_count": 102,
   "metadata": {},
   "outputs": [],
   "source": [
    "# Load MNIST dataset\n",
    "(x_train, _), (x_test, _) = mnist.load_data() #Ignoring Labels as we are performing Reconstruction\n",
    "x_train, x_test = x_train.astype('float32') / 255., x_test.astype('float32') / 255.\n",
    "x_train = np.expand_dims(x_train, -1)\n",
    "x_test = np.expand_dims(x_test, -1)"
   ]
  },
  {
   "cell_type": "code",
   "execution_count": 98,
   "metadata": {},
   "outputs": [],
   "source": [
    "class Encoder(layers.Layer):\n",
    "    def __init__(self, latent_dim=2):\n",
    "        super(Encoder, self).__init__()\n",
    "        self.conv1 = layers.Conv2D(32, 3, activation='relu', strides=2, padding='same')\n",
    "        self.conv2 = layers.Conv2D(64, 3, activation='relu', strides=2, padding='same')\n",
    "        self.flatten = layers.Flatten()\n",
    "        self.d = layers.Dense(latent_dim + latent_dim)\n",
    "\n",
    "    def call(self, x):\n",
    "        x = self.conv1(x)\n",
    "        x = self.conv2(x)\n",
    "        x = self.flatten(x)\n",
    "        x = self.d(x)\n",
    "        return x"
   ]
  },
  {
   "cell_type": "code",
   "execution_count": 99,
   "metadata": {},
   "outputs": [],
   "source": [
    "class Decoder(layers.Layer):\n",
    "    def __init__(self, latent_dim=2):\n",
    "        super(Decoder, self).__init__()\n",
    "        self.dense = layers.Dense(7*7*64, activation='relu')\n",
    "        self.reshape = layers.Reshape((7, 7, 64))\n",
    "        self.convT1 = layers.Conv2DTranspose(64, 3, activation='relu', strides=2, padding='same')\n",
    "        self.convT2 = layers.Conv2DTranspose(32, 3, activation='relu', strides=2, padding='same')\n",
    "        self.convT3 = layers.Conv2DTranspose(1, 3, activation='sigmoid', padding='same')\n",
    "\n",
    "    def call(self, z):\n",
    "        z = self.dense(z)\n",
    "        z = self.reshape(z)\n",
    "        z = self.convT1(z)\n",
    "        z = self.convT2(z)\n",
    "        z = self.convT3(z)\n",
    "        return z"
   ]
  },
  {
   "cell_type": "code",
   "execution_count": 100,
   "metadata": {},
   "outputs": [],
   "source": [
    "class VAE(Model):\n",
    "    def __init__(self, latent_dim):\n",
    "        super(VAE, self).__init__()\n",
    "        self.latent_dim = latent_dim\n",
    "        self.encoder = Encoder(latent_dim)\n",
    "        self.decoder = Decoder(latent_dim)\n",
    "\n",
    "    def call(self, x):\n",
    "        encoded = self.encoder(x)\n",
    "        z_mean, z_log_var = tf.split(encoded, num_or_size_splits=2, axis=1)\n",
    "        z = self.reparameterize(z_mean, z_log_var)\n",
    "        reconstructed = self.decoder(z)\n",
    "        # Add KL divergence regularization loss.\n",
    "        kl_loss = -0.5 * tf.reduce_mean(z_log_var - tf.square(z_mean) - tf.exp(z_log_var) + 1)\n",
    "        kl_coefficient = 0.001  # Example coefficient, adjust based on experimentation.\n",
    "        self.add_loss(kl_coefficient * kl_loss)\n",
    "        return reconstructed\n",
    "\n",
    "    def reparameterize(self, z_mean, z_log_var):\n",
    "        eps = tf.random.normal(shape=(tf.shape(z_mean)[0], self.latent_dim))\n",
    "        return eps * tf.exp(z_log_var * .5) + z_mean"
   ]
  },
  {
   "cell_type": "code",
   "execution_count": 104,
   "metadata": {},
   "outputs": [
    {
     "name": "stdout",
     "output_type": "stream",
     "text": [
      "938/938 [==============================] - 60s 63ms/step - loss: 0.0315 - val_loss: 0.0152\n"
     ]
    },
    {
     "data": {
      "text/plain": [
       "<keras.callbacks.History at 0x7f7c79933250>"
      ]
     },
     "execution_count": 104,
     "metadata": {},
     "output_type": "execute_result"
    }
   ],
   "source": [
    "latent_dim = 16\n",
    "\n",
    "vae = VAE(latent_dim)\n",
    "vae.compile(optimizer=tf.keras.optimizers.Adam(learning_rate=0.001), loss=tf.keras.losses.MeanSquaredError())\n",
    "vae.fit(x_train, x_train, epochs=1, batch_size=64, validation_data=(x_test, x_test))"
   ]
  },
  {
   "cell_type": "code",
   "execution_count": 105,
   "metadata": {},
   "outputs": [
    {
     "name": "stdout",
     "output_type": "stream",
     "text": [
      "313/313 [==============================] - 5s 14ms/step\n",
      "Test MSE: 0.012541366\n"
     ]
    }
   ],
   "source": [
    "predictions = vae.predict(x_test)\n",
    "mse = np.mean(np.square(x_test - predictions))\n",
    "print(\"Test MSE:\", mse)\n"
   ]
  },
  {
   "cell_type": "code",
   "execution_count": 110,
   "metadata": {},
   "outputs": [
    {
     "name": "stdout",
     "output_type": "stream",
     "text": [
      "157/157 [==============================] - 3s 21ms/step\n"
     ]
    },
    {
     "data": {
      "image/png": "[encoded data removed]",
      "text/plain": [
       "<Figure size 1440x432 with 12 Axes>"
      ]
     },
     "metadata": {
      "needs_background": "light"
     },
     "output_type": "display_data"
    }
   ],
   "source": [
    "def plot_images(original, reconstructed, latent_dim):\n",
    "    n = 6 # Number of digits to display\n",
    "    plt.figure(figsize=(20, 6))\n",
    "    title = f'Latent Dimensions: {latent_dim}'\n",
    "    plt.suptitle(title, fontsize=20)\n",
    "    for i in range(n):\n",
    "        # Display original\n",
    "        ax = plt.subplot(2, n, i + 1)\n",
    "        plt.imshow(original[i].reshape(28, 28))\n",
    "        plt.title(\"Test Original\")\n",
    "        plt.gray()\n",
    "        ax.get_xaxis().set_visible(False)\n",
    "        ax.get_yaxis().set_visible(False)\n",
    "\n",
    "        # Display reconstruction\n",
    "        ax = plt.subplot(2, n, i + 1 + n)\n",
    "        plt.imshow(reconstructed[i].reshape(28, 28))\n",
    "        plt.title(\"Test Reconstructed\")\n",
    "        plt.gray()\n",
    "        ax.get_xaxis().set_visible(False)\n",
    "        ax.get_yaxis().set_visible(False)\n",
    "    plt.show()\n",
    "\n",
    "# Predict and visualize the reconstruction\n",
    "x_test_encoded = vae.predict(x_test, batch_size=64)\n",
    "plot_images(x_test, x_test_encoded,latent_dim)"
   ]
  }
 ],
 "metadata": {
  "kernelspec": {
   "display_name": "base",
   "language": "python",
   "name": "python3"
  },
  "language_info": {
   "codemirror_mode": {
    "name": "ipython",
    "version": 3
   },
   "file_extension": ".py",
   "mimetype": "text/x-python",
   "name": "python",
   "nbconvert_exporter": "python",
   "pygments_lexer": "ipython3",
   "version": "3.8.8"
  }
 },
 "nbformat": 4,
 "nbformat_minor": 2
}
