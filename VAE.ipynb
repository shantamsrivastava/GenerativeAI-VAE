{
 "cells": [
  {
   "cell_type": "markdown",
   "metadata": {},
   "source": [
    "## Importing Libraries"
   ]
  },
  {
   "cell_type": "code",
   "execution_count": 4,
   "metadata": {},
   "outputs": [],
   "source": [
    "import tensorflow as tf\n",
    "from tensorflow.keras import layers, Model\n",
    "from tensorflow.keras.datasets import mnist\n",
    "import numpy as np\n",
    "import matplotlib.pyplot as plt"
   ]
  },
  {
   "cell_type": "markdown",
   "metadata": {},
   "source": [
    "## Importing the Data"
   ]
  },
  {
   "cell_type": "code",
   "execution_count": 5,
   "metadata": {},
   "outputs": [],
   "source": [
    "# Load MNIST dataset\n",
    "(x_train, _), (x_test, _) = mnist.load_data() #Ignoring Labels as we are performing Reconstruction\n",
    "x_train, x_test = x_train.astype('float32') / 255., x_test.astype('float32') / 255. #Normalizing the data\n",
    "x_train = np.expand_dims(x_train, -1)\n",
    "x_test = np.expand_dims(x_test, -1)"
   ]
  },
  {
   "cell_type": "markdown",
   "metadata": {},
   "source": [
    "## Encoder"
   ]
  },
  {
   "cell_type": "code",
   "execution_count": 6,
   "metadata": {},
   "outputs": [],
   "source": [
    "class Encoder(layers.Layer):\n",
    "    def __init__(self, latent_dim=2):\n",
    "        super(Encoder, self).__init__()\n",
    "        self.conv1 = layers.Conv2D(32, 3, activation='relu', strides=2, padding='same')\n",
    "        self.conv2 = layers.Conv2D(64, 3, activation='relu', strides=2, padding='same')\n",
    "        self.flatten = layers.Flatten()\n",
    "        self.d = layers.Dense(latent_dim + latent_dim)\n",
    "\n",
    "    def call(self, x):\n",
    "        x = self.conv1(x)\n",
    "        x = self.conv2(x)\n",
    "        x = self.flatten(x)\n",
    "        x = self.d(x)\n",
    "        return x"
   ]
  },
  {
   "cell_type": "markdown",
   "metadata": {},
   "source": [
    "## Decoder"
   ]
  },
  {
   "cell_type": "code",
   "execution_count": 7,
   "metadata": {},
   "outputs": [],
   "source": [
    "class Decoder(layers.Layer):\n",
    "    def __init__(self, latent_dim=2):\n",
    "        super(Decoder, self).__init__()\n",
    "        self.dense = layers.Dense(7*7*64, activation='relu')\n",
    "        self.reshape = layers.Reshape((7, 7, 64))\n",
    "        self.convT1 = layers.Conv2DTranspose(64, 3, activation='relu', strides=2, padding='same')\n",
    "        self.convT2 = layers.Conv2DTranspose(32, 3, activation='relu', strides=2, padding='same')\n",
    "        self.convT3 = layers.Conv2DTranspose(1, 3, activation='sigmoid', padding='same')\n",
    "\n",
    "    def call(self, z):\n",
    "        z = self.dense(z)\n",
    "        z = self.reshape(z)\n",
    "        z = self.convT1(z)\n",
    "        z = self.convT2(z)\n",
    "        z = self.convT3(z)\n",
    "        return z"
   ]
  },
  {
   "cell_type": "markdown",
   "metadata": {},
   "source": [
    "## Reparametrization"
   ]
  },
  {
   "cell_type": "code",
   "execution_count": 8,
   "metadata": {},
   "outputs": [],
   "source": [
    "class VAE(Model):\n",
    "    def __init__(self, latent_dim):\n",
    "        super(VAE, self).__init__()\n",
    "        self.latent_dim = latent_dim\n",
    "        self.encoder = Encoder(latent_dim)\n",
    "        self.decoder = Decoder(latent_dim)\n",
    "\n",
    "    def call(self, x):\n",
    "        encoded = self.encoder(x)\n",
    "        z_mean, z_log_var = tf.split(encoded, num_or_size_splits=2, axis=1)\n",
    "        z = self.reparameterize(z_mean, z_log_var)\n",
    "        reconstructed = self.decoder(z)\n",
    "        # Add KL divergence regularization loss \n",
    "        kl_loss = -0.5 * tf.reduce_mean(z_log_var - tf.square(z_mean) - tf.exp(z_log_var) + 1)\n",
    "        kl_coefficient = 0.001  # Got this through experimentation with various values\n",
    "        self.add_loss(kl_coefficient * kl_loss)\n",
    "        return reconstructed\n",
    "\n",
    "    def reparameterize(self, z_mean, z_log_var):\n",
    "        eps = tf.random.normal(shape=(tf.shape(z_mean)[0], self.latent_dim))\n",
    "        return eps * tf.exp(z_log_var * .5) + z_mean"
   ]
  },
  {
   "cell_type": "markdown",
   "metadata": {},
   "source": [
    "## Plotting Images"
   ]
  },
  {
   "cell_type": "code",
   "execution_count": 9,
   "metadata": {},
   "outputs": [],
   "source": [
    "def plot_images(original, reconstructed, latent_dim):\n",
    "    n = 5 # Number of digits to display\n",
    "    plt.figure(figsize=(20, 6))\n",
    "    title = f'Latent Dimensions: {latent_dim}'\n",
    "    plt.suptitle(title, fontsize=20)\n",
    "    for i in range(n):\n",
    "        # Show original\n",
    "        ax = plt.subplot(2, n, i + 1)\n",
    "        plt.imshow(original[i].reshape(28, 28))\n",
    "        plt.title(\"Test Original\")\n",
    "        plt.gray()\n",
    "        ax.get_xaxis().set_visible(False)\n",
    "        ax.get_yaxis().set_visible(False)\n",
    "\n",
    "        # Show reconstruction\n",
    "        ax = plt.subplot(2, n, i + 1 + n)\n",
    "        plt.imshow(reconstructed[i].reshape(28, 28))\n",
    "        plt.title(\"Test Reconstructed\")\n",
    "        plt.gray()\n",
    "        ax.get_xaxis().set_visible(False)\n",
    "        ax.get_yaxis().set_visible(False)\n",
    "    plt.show()"
   ]
  },
  {
   "cell_type": "markdown",
   "metadata": {},
   "source": [
    "## VAE with 2 Latent Dimensions"
   ]
  },
  {
   "cell_type": "code",
   "execution_count": 10,
   "metadata": {},
   "outputs": [
    {
     "name": "stderr",
     "output_type": "stream",
     "text": [
      "2024-03-05 16:36:02.563836: I tensorflow/core/platform/cpu_feature_guard.cc:193] This TensorFlow binary is optimized with oneAPI Deep Neural Network Library (oneDNN) to use the following CPU instructions in performance-critical operations:  SSE4.1 SSE4.2\n",
      "To enable them in other operations, rebuild TensorFlow with the appropriate compiler flags.\n"
     ]
    },
    {
     "name": "stdout",
     "output_type": "stream",
     "text": [
      "Epoch 1/10\n",
      "938/938 [==============================] - 72s 75ms/step - loss: 0.0621 - val_loss: 0.0531\n",
      "Epoch 2/10\n",
      "938/938 [==============================] - 69s 74ms/step - loss: 0.0514 - val_loss: 0.0505\n",
      "Epoch 3/10\n",
      "938/938 [==============================] - 73s 77ms/step - loss: 0.0494 - val_loss: 0.0489\n",
      "Epoch 4/10\n",
      "938/938 [==============================] - 67s 71ms/step - loss: 0.0482 - val_loss: 0.0482\n",
      "Epoch 5/10\n",
      "938/938 [==============================] - 52s 56ms/step - loss: 0.0476 - val_loss: 0.0473\n",
      "Epoch 6/10\n",
      "938/938 [==============================] - 57s 61ms/step - loss: 0.0471 - val_loss: 0.0470\n",
      "Epoch 7/10\n",
      "938/938 [==============================] - 71s 76ms/step - loss: 0.0468 - val_loss: 0.0470\n",
      "Epoch 8/10\n",
      "938/938 [==============================] - 72s 77ms/step - loss: 0.0464 - val_loss: 0.0465\n",
      "Epoch 9/10\n",
      "938/938 [==============================] - 76s 81ms/step - loss: 0.0462 - val_loss: 0.0465\n",
      "Epoch 10/10\n",
      "938/938 [==============================] - 74s 78ms/step - loss: 0.0460 - val_loss: 0.0463\n"
     ]
    },
    {
     "data": {
      "text/plain": [
       "<keras.callbacks.History at 0x7fede25eccd0>"
      ]
     },
     "execution_count": 10,
     "metadata": {},
     "output_type": "execute_result"
    }
   ],
   "source": [
    "latent_dim = 2\n",
    "vae = VAE(latent_dim)\n",
    "vae.compile(optimizer=tf.keras.optimizers.Adam(learning_rate=0.001), loss=tf.keras.losses.MeanSquaredError())\n",
    "vae.fit(x_train, x_train, epochs=10, batch_size=64, validation_data=(x_test, x_test))"
   ]
  },
  {
   "cell_type": "code",
   "execution_count": 11,
   "metadata": {},
   "outputs": [
    {
     "name": "stdout",
     "output_type": "stream",
     "text": [
      "313/313 [==============================] - 5s 15ms/step\n",
      "Test MSE: 0.043445904\n"
     ]
    }
   ],
   "source": [
    "predictions = vae.predict(x_test)\n",
    "mse1 = np.mean(np.square(x_test - predictions))\n",
    "print(\"Test MSE:\", mse1)"
   ]
  },
  {
   "cell_type": "code",
   "execution_count": 12,
   "metadata": {},
   "outputs": [
    {
     "name": "stdout",
     "output_type": "stream",
     "text": [
      "157/157 [==============================] - 4s 27ms/step\n"
     ]
    },
    {
     "data": {
      "image/png": "[encoded data removed]",
      "text/plain": [
       "<Figure size 1440x432 with 10 Axes>"
      ]
     },
     "metadata": {
      "needs_background": "light"
     },
     "output_type": "display_data"
    }
   ],
   "source": [
    "# Recontructed images with 2 latent dimensions\n",
    "x_test_encoded = vae.predict(x_test, batch_size=64)\n",
    "plot_images(x_test, x_test_encoded,latent_dim)"
   ]
  },
  {
   "cell_type": "markdown",
   "metadata": {},
   "source": [
    "## VAE with 4 Latent Dimensions"
   ]
  },
  {
   "cell_type": "code",
   "execution_count": 13,
   "metadata": {},
   "outputs": [
    {
     "name": "stdout",
     "output_type": "stream",
     "text": [
      "Epoch 1/10\n"
     ]
    },
    {
     "name": "stdout",
     "output_type": "stream",
     "text": [
      "938/938 [==============================] - 76s 80ms/step - loss: 0.0517 - val_loss: 0.0379\n",
      "Epoch 2/10\n",
      "938/938 [==============================] - 73s 78ms/step - loss: 0.0365 - val_loss: 0.0352\n",
      "Epoch 3/10\n",
      "938/938 [==============================] - 72s 76ms/step - loss: 0.0348 - val_loss: 0.0342\n",
      "Epoch 4/10\n",
      "938/938 [==============================] - 78s 83ms/step - loss: 0.0339 - val_loss: 0.0336\n",
      "Epoch 5/10\n",
      "938/938 [==============================] - 79s 84ms/step - loss: 0.0333 - val_loss: 0.0333\n",
      "Epoch 6/10\n",
      "938/938 [==============================] - 76s 82ms/step - loss: 0.0329 - val_loss: 0.0332\n",
      "Epoch 7/10\n",
      "938/938 [==============================] - 78s 83ms/step - loss: 0.0326 - val_loss: 0.0326\n",
      "Epoch 8/10\n",
      "938/938 [==============================] - 76s 81ms/step - loss: 0.0323 - val_loss: 0.0325\n",
      "Epoch 9/10\n",
      "938/938 [==============================] - 80s 86ms/step - loss: 0.0321 - val_loss: 0.0325\n",
      "Epoch 10/10\n",
      "938/938 [==============================] - 71s 76ms/step - loss: 0.0319 - val_loss: 0.0321\n"
     ]
    },
    {
     "data": {
      "text/plain": [
       "<keras.callbacks.History at 0x7fee20b5d580>"
      ]
     },
     "execution_count": 13,
     "metadata": {},
     "output_type": "execute_result"
    }
   ],
   "source": [
    "latent_dim = 4\n",
    "vae = VAE(latent_dim)\n",
    "vae.compile(optimizer=tf.keras.optimizers.Adam(learning_rate=0.001), loss=tf.keras.losses.MeanSquaredError())\n",
    "vae.fit(x_train, x_train, epochs=10, batch_size=64, validation_data=(x_test, x_test))"
   ]
  },
  {
   "cell_type": "code",
   "execution_count": 14,
   "metadata": {},
   "outputs": [
    {
     "name": "stdout",
     "output_type": "stream",
     "text": [
      "313/313 [==============================] - 5s 14ms/step\n",
      "Test MSE: 0.029310841\n"
     ]
    }
   ],
   "source": [
    "predictions = vae.predict(x_test)\n",
    "mse2 = np.mean(np.square(x_test - predictions))\n",
    "print(\"Test MSE:\", mse2)"
   ]
  },
  {
   "cell_type": "code",
   "execution_count": 15,
   "metadata": {},
   "outputs": [
    {
     "name": "stdout",
     "output_type": "stream",
     "text": [
      "157/157 [==============================] - 4s 24ms/step\n"
     ]
    },
    {
     "data": {
      "image/png": "[encoded data removed]",
      "text/plain": [
       "<Figure size 1440x432 with 10 Axes>"
      ]
     },
     "metadata": {
      "needs_background": "light"
     },
     "output_type": "display_data"
    }
   ],
   "source": [
    "# Recontructed images with 4 latent dimensions\n",
    "x_test_encoded = vae.predict(x_test, batch_size=64)\n",
    "plot_images(x_test, x_test_encoded,latent_dim)"
   ]
  },
  {
   "cell_type": "markdown",
   "metadata": {},
   "source": [
    "## VAE with 8 Latent Dimensions"
   ]
  },
  {
   "cell_type": "code",
   "execution_count": 16,
   "metadata": {},
   "outputs": [
    {
     "name": "stdout",
     "output_type": "stream",
     "text": [
      "Epoch 1/10\n",
      "938/938 [==============================] - 74s 78ms/step - loss: 0.0388 - val_loss: 0.0240\n",
      "Epoch 2/10\n",
      "938/938 [==============================] - 74s 78ms/step - loss: 0.0230 - val_loss: 0.0219\n",
      "Epoch 3/10\n",
      "938/938 [==============================] - 92s 98ms/step - loss: 0.0214 - val_loss: 0.0207\n",
      "Epoch 4/10\n",
      "938/938 [==============================] - 71s 76ms/step - loss: 0.0205 - val_loss: 0.0203\n",
      "Epoch 5/10\n",
      "938/938 [==============================] - 68s 73ms/step - loss: 0.0199 - val_loss: 0.0197\n",
      "Epoch 6/10\n",
      "938/938 [==============================] - 74s 79ms/step - loss: 0.0195 - val_loss: 0.0195\n",
      "Epoch 7/10\n",
      "938/938 [==============================] - 74s 79ms/step - loss: 0.0192 - val_loss: 0.0190\n",
      "Epoch 8/10\n",
      "938/938 [==============================] - 68s 73ms/step - loss: 0.0189 - val_loss: 0.0190\n",
      "Epoch 9/10\n",
      "938/938 [==============================] - 82s 87ms/step - loss: 0.0187 - val_loss: 0.0190\n",
      "Epoch 10/10\n",
      "938/938 [==============================] - 81s 86ms/step - loss: 0.0185 - val_loss: 0.0187\n"
     ]
    },
    {
     "data": {
      "text/plain": [
       "<keras.callbacks.History at 0x7fed901bab80>"
      ]
     },
     "execution_count": 16,
     "metadata": {},
     "output_type": "execute_result"
    }
   ],
   "source": [
    "latent_dim = 8\n",
    "vae = VAE(latent_dim)\n",
    "vae.compile(optimizer=tf.keras.optimizers.Adam(learning_rate=0.001), loss=tf.keras.losses.MeanSquaredError())\n",
    "vae.fit(x_train, x_train, epochs=10, batch_size=64, validation_data=(x_test, x_test))"
   ]
  },
  {
   "cell_type": "code",
   "execution_count": 17,
   "metadata": {},
   "outputs": [
    {
     "name": "stdout",
     "output_type": "stream",
     "text": [
      "  1/313 [..............................] - ETA: 1:32"
     ]
    },
    {
     "name": "stdout",
     "output_type": "stream",
     "text": [
      "313/313 [==============================] - 5s 15ms/step\n",
      "Test MSE: 0.015848158\n"
     ]
    }
   ],
   "source": [
    "predictions = vae.predict(x_test)\n",
    "mse3 = np.mean(np.square(x_test - predictions))\n",
    "print(\"Test MSE:\", mse3)"
   ]
  },
  {
   "cell_type": "code",
   "execution_count": 18,
   "metadata": {},
   "outputs": [
    {
     "name": "stdout",
     "output_type": "stream",
     "text": [
      "157/157 [==============================] - 4s 23ms/step\n"
     ]
    },
    {
     "data": {
      "image/png": "[encoded data removed]",
      "text/plain": [
       "<Figure size 1440x432 with 10 Axes>"
      ]
     },
     "metadata": {
      "needs_background": "light"
     },
     "output_type": "display_data"
    }
   ],
   "source": [
    "# Recontructed images with 8 latent dimensions\n",
    "x_test_encoded = vae.predict(x_test, batch_size=64)\n",
    "plot_images(x_test, x_test_encoded,latent_dim)"
   ]
  },
  {
   "cell_type": "markdown",
   "metadata": {},
   "source": [
    "## VAE with 16 Latent Dimensions"
   ]
  },
  {
   "cell_type": "code",
   "execution_count": 19,
   "metadata": {},
   "outputs": [
    {
     "name": "stdout",
     "output_type": "stream",
     "text": [
      "Epoch 1/10\n",
      "938/938 [==============================] - 74s 78ms/step - loss: 0.0314 - val_loss: 0.0144\n",
      "Epoch 2/10\n",
      "938/938 [==============================] - 72s 77ms/step - loss: 0.0136 - val_loss: 0.0126\n",
      "Epoch 3/10\n",
      "938/938 [==============================] - 62s 66ms/step - loss: 0.0123 - val_loss: 0.0118\n",
      "Epoch 4/10\n",
      "938/938 [==============================] - 62s 66ms/step - loss: 0.0117 - val_loss: 0.0114\n",
      "Epoch 5/10\n",
      "938/938 [==============================] - 63s 68ms/step - loss: 0.0112 - val_loss: 0.0110\n",
      "Epoch 6/10\n",
      "938/938 [==============================] - 60s 64ms/step - loss: 0.0109 - val_loss: 0.0109\n",
      "Epoch 7/10\n",
      "938/938 [==============================] - 61s 65ms/step - loss: 0.0107 - val_loss: 0.0107\n",
      "Epoch 8/10\n",
      "938/938 [==============================] - 63s 67ms/step - loss: 0.0105 - val_loss: 0.0105\n",
      "Epoch 9/10\n",
      "938/938 [==============================] - 61s 65ms/step - loss: 0.0103 - val_loss: 0.0104\n",
      "Epoch 10/10\n",
      "938/938 [==============================] - 61s 65ms/step - loss: 0.0102 - val_loss: 0.0104\n"
     ]
    },
    {
     "data": {
      "text/plain": [
       "<keras.callbacks.History at 0x7fed9008e370>"
      ]
     },
     "execution_count": 19,
     "metadata": {},
     "output_type": "execute_result"
    }
   ],
   "source": [
    "latent_dim = 16\n",
    "vae = VAE(latent_dim)\n",
    "vae.compile(optimizer=tf.keras.optimizers.Adam(learning_rate=0.001), loss=tf.keras.losses.MeanSquaredError())\n",
    "vae.fit(x_train, x_train, epochs=10, batch_size=64, validation_data=(x_test, x_test))"
   ]
  },
  {
   "cell_type": "code",
   "execution_count": 20,
   "metadata": {},
   "outputs": [
    {
     "name": "stdout",
     "output_type": "stream",
     "text": [
      "313/313 [==============================] - 4s 11ms/step\n",
      "Test MSE: 0.0076776887\n"
     ]
    }
   ],
   "source": [
    "predictions = vae.predict(x_test)\n",
    "mse4 = np.mean(np.square(x_test - predictions))\n",
    "print(\"Test MSE:\", mse4)"
   ]
  },
  {
   "cell_type": "code",
   "execution_count": 21,
   "metadata": {},
   "outputs": [
    {
     "name": "stdout",
     "output_type": "stream",
     "text": [
      "157/157 [==============================] - 3s 22ms/step\n"
     ]
    },
    {
     "data": {
      "image/png": "[encoded data removed]",
      "text/plain": [
       "<Figure size 1440x432 with 10 Axes>"
      ]
     },
     "metadata": {
      "needs_background": "light"
     },
     "output_type": "display_data"
    }
   ],
   "source": [
    "# Recontructed images with 16 latent dimensions\n",
    "x_test_encoded = vae.predict(x_test, batch_size=64)\n",
    "plot_images(x_test, x_test_encoded,latent_dim)"
   ]
  },
  {
   "cell_type": "markdown",
   "metadata": {},
   "source": [
    "## VAE with 32 Latent Dimensions"
   ]
  },
  {
   "cell_type": "code",
   "execution_count": 22,
   "metadata": {},
   "outputs": [
    {
     "name": "stdout",
     "output_type": "stream",
     "text": [
      "Epoch 1/10\n",
      "938/938 [==============================] - 67s 70ms/step - loss: 0.0266 - val_loss: 0.0093\n",
      "Epoch 2/10\n",
      "938/938 [==============================] - 63s 67ms/step - loss: 0.0086 - val_loss: 0.0079\n",
      "Epoch 3/10\n",
      "938/938 [==============================] - 64s 68ms/step - loss: 0.0077 - val_loss: 0.0074\n",
      "Epoch 4/10\n",
      "938/938 [==============================] - 74s 79ms/step - loss: 0.0072 - val_loss: 0.0071\n",
      "Epoch 5/10\n",
      "938/938 [==============================] - 64s 68ms/step - loss: 0.0070 - val_loss: 0.0068\n",
      "Epoch 6/10\n",
      "938/938 [==============================] - 52s 56ms/step - loss: 0.0067 - val_loss: 0.0068\n",
      "Epoch 7/10\n",
      "938/938 [==============================] - 53s 56ms/step - loss: 0.0066 - val_loss: 0.0066\n",
      "Epoch 8/10\n",
      "938/938 [==============================] - 52s 56ms/step - loss: 0.0065 - val_loss: 0.0065\n",
      "Epoch 9/10\n",
      "938/938 [==============================] - 56s 60ms/step - loss: 0.0064 - val_loss: 0.0064\n",
      "Epoch 10/10\n",
      "938/938 [==============================] - 68s 73ms/step - loss: 0.0063 - val_loss: 0.0064\n"
     ]
    },
    {
     "data": {
      "text/plain": [
       "<keras.callbacks.History at 0x7fede2a0cc40>"
      ]
     },
     "execution_count": 22,
     "metadata": {},
     "output_type": "execute_result"
    }
   ],
   "source": [
    "latent_dim = 32\n",
    "vae = VAE(latent_dim)\n",
    "vae.compile(optimizer=tf.keras.optimizers.Adam(learning_rate=0.001), loss=tf.keras.losses.MeanSquaredError())\n",
    "vae.fit(x_train, x_train, epochs=10, batch_size=64, validation_data=(x_test, x_test))"
   ]
  },
  {
   "cell_type": "code",
   "execution_count": 23,
   "metadata": {},
   "outputs": [
    {
     "name": "stdout",
     "output_type": "stream",
     "text": [
      "313/313 [==============================] - 4s 11ms/step\n",
      "Test MSE: 0.003941704\n"
     ]
    }
   ],
   "source": [
    "predictions = vae.predict(x_test)\n",
    "mse5 = np.mean(np.square(x_test - predictions))\n",
    "print(\"Test MSE:\", mse5)"
   ]
  },
  {
   "cell_type": "code",
   "execution_count": 24,
   "metadata": {},
   "outputs": [
    {
     "name": "stdout",
     "output_type": "stream",
     "text": [
      "157/157 [==============================] - 3s 20ms/step\n"
     ]
    },
    {
     "data": {
      "image/png": "[encoded data removed]",
      "text/plain": [
       "<Figure size 1440x432 with 10 Axes>"
      ]
     },
     "metadata": {
      "needs_background": "light"
     },
     "output_type": "display_data"
    }
   ],
   "source": [
    "# Recontructed images with 32 latent dimensions\n",
    "x_test_encoded = vae.predict(x_test, batch_size=64)\n",
    "plot_images(x_test, x_test_encoded,latent_dim)"
   ]
  },
  {
   "cell_type": "markdown",
   "metadata": {},
   "source": [
    "## VAE with 64 Latent Dimensions"
   ]
  },
  {
   "cell_type": "code",
   "execution_count": 25,
   "metadata": {},
   "outputs": [
    {
     "name": "stdout",
     "output_type": "stream",
     "text": [
      "Epoch 1/10\n"
     ]
    },
    {
     "name": "stdout",
     "output_type": "stream",
     "text": [
      "938/938 [==============================] - 62s 65ms/step - loss: 0.0238 - val_loss: 0.0075\n",
      "Epoch 2/10\n",
      "938/938 [==============================] - 60s 64ms/step - loss: 0.0066 - val_loss: 0.0058\n",
      "Epoch 3/10\n",
      "938/938 [==============================] - 60s 63ms/step - loss: 0.0056 - val_loss: 0.0053\n",
      "Epoch 4/10\n",
      "938/938 [==============================] - 59s 63ms/step - loss: 0.0051 - val_loss: 0.0050\n",
      "Epoch 5/10\n",
      "938/938 [==============================] - 63s 67ms/step - loss: 0.0049 - val_loss: 0.0048\n",
      "Epoch 6/10\n",
      "938/938 [==============================] - 61s 65ms/step - loss: 0.0047 - val_loss: 0.0047\n",
      "Epoch 7/10\n",
      "938/938 [==============================] - 69s 73ms/step - loss: 0.0046 - val_loss: 0.0046\n",
      "Epoch 8/10\n",
      "938/938 [==============================] - 59s 63ms/step - loss: 0.0045 - val_loss: 0.0046\n",
      "Epoch 9/10\n",
      "938/938 [==============================] - 56s 60ms/step - loss: 0.0044 - val_loss: 0.0044\n",
      "Epoch 10/10\n",
      "938/938 [==============================] - 60s 64ms/step - loss: 0.0043 - val_loss: 0.0043\n"
     ]
    },
    {
     "data": {
      "text/plain": [
       "<keras.callbacks.History at 0x7fede25ecac0>"
      ]
     },
     "execution_count": 25,
     "metadata": {},
     "output_type": "execute_result"
    }
   ],
   "source": [
    "latent_dim = 64\n",
    "vae = VAE(latent_dim)\n",
    "vae.compile(optimizer=tf.keras.optimizers.Adam(learning_rate=0.001), loss=tf.keras.losses.MeanSquaredError())\n",
    "vae.fit(x_train, x_train, epochs=10, batch_size=64, validation_data=(x_test, x_test))"
   ]
  },
  {
   "cell_type": "code",
   "execution_count": 26,
   "metadata": {},
   "outputs": [
    {
     "name": "stdout",
     "output_type": "stream",
     "text": [
      "313/313 [==============================] - 4s 12ms/step\n",
      "Test MSE: 0.0023274238\n"
     ]
    }
   ],
   "source": [
    "predictions = vae.predict(x_test)\n",
    "mse6 = np.mean(np.square(x_test - predictions))\n",
    "print(\"Test MSE:\", mse6)"
   ]
  },
  {
   "cell_type": "code",
   "execution_count": 27,
   "metadata": {},
   "outputs": [
    {
     "name": "stdout",
     "output_type": "stream",
     "text": [
      "157/157 [==============================] - 3s 19ms/step\n"
     ]
    },
    {
     "data": {
      "image/png": "[encoded data removed]",
      "text/plain": [
       "<Figure size 1440x432 with 10 Axes>"
      ]
     },
     "metadata": {
      "needs_background": "light"
     },
     "output_type": "display_data"
    }
   ],
   "source": [
    "# Recontructed images with 64 latent dimensions\n",
    "x_test_encoded = vae.predict(x_test, batch_size=64)\n",
    "plot_images(x_test, x_test_encoded,latent_dim)"
   ]
  },
  {
   "cell_type": "markdown",
   "metadata": {},
   "source": [
    "## MSE Error "
   ]
  },
  {
   "cell_type": "code",
   "execution_count": 28,
   "metadata": {},
   "outputs": [
    {
     "data": {
      "text/plain": [
       "[<matplotlib.lines.Line2D at 0x7fee20c291c0>]"
      ]
     },
     "execution_count": 28,
     "metadata": {},
     "output_type": "execute_result"
    },
    {
     "data": {
      "image/png": "[encoded data removed]",
      "text/plain": [
       "<Figure size 432x288 with 1 Axes>"
      ]
     },
     "metadata": {
      "needs_background": "light"
     },
     "output_type": "display_data"
    }
   ],
   "source": [
    "mse_list = [mse1, mse2, mse3, mse4, mse5, mse6]\n",
    "plt.plot(mse_list) # Can clearly see the mse reduce as we increase latent dimensions"
   ]
  }
 ],
 "metadata": {
  "kernelspec": {
   "display_name": "base",
   "language": "python",
   "name": "python3"
  },
  "language_info": {
   "codemirror_mode": {
    "name": "ipython",
    "version": 3
   },
   "file_extension": ".py",
   "mimetype": "text/x-python",
   "name": "python",
   "nbconvert_exporter": "python",
   "pygments_lexer": "ipython3",
   "version": "3.8.8"
  }
 },
 "nbformat": 4,
 "nbformat_minor": 2
}
